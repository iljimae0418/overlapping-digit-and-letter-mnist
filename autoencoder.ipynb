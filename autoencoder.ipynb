{
 "cells": [
  {
   "cell_type": "markdown",
   "metadata": {},
   "source": [
    "# Data Augmentation with Autoencoder"
   ]
  },
  {
   "cell_type": "code",
   "execution_count": 1,
   "metadata": {},
   "outputs": [
    {
     "name": "stderr",
     "output_type": "stream",
     "text": [
      "Using TensorFlow backend.\n"
     ]
    }
   ],
   "source": [
    "# environment: Paperspace Quadro P6000 GPU  \n",
    "import numpy as np \n",
    "import pandas as pd \n",
    "import os \n",
    "import tensorflow as tf\n",
    "import tensorflow.keras # run pip install keras==2.3 beforehand for compatability \n",
    "from tensorflow.keras import Input, Model \n",
    "from tensorflow.keras.models import Sequential, load_model\n",
    "from tensorflow.keras.layers import Dense, Conv2D, Dropout, AlphaDropout, MaxPooling2D, AveragePooling2D, BatchNormalization, Concatenate, Flatten, Reshape, Add, Activation, UpSampling2D\n",
    "from tensorflow.keras.callbacks import ModelCheckpoint, EarlyStopping, ReduceLROnPlateau, LearningRateScheduler\n",
    "from keras.utils.np_utils import to_categorical\n",
    "import matplotlib.pyplot as plt \n",
    "from sklearn.model_selection import train_test_split\n",
    "from tensorflow.keras.preprocessing.image import ImageDataGenerator\n",
    "import skimage\n",
    "from skimage.transform import rotate\n",
    "from skimage.util import random_noise\n",
    "from skimage.transform import warp, AffineTransform\n",
    "from skimage.transform import resize\n",
    "import cv2\n",
    "import random \n",
    "from sklearn.model_selection import KFold, StratifiedKFold\n",
    "from sklearn.utils import shuffle # shuffle dataset before splitting into folds\n"
   ]
  },
  {
   "cell_type": "markdown",
   "metadata": {},
   "source": [
    "# Read in data"
   ]
  },
  {
   "cell_type": "code",
   "execution_count": 2,
   "metadata": {},
   "outputs": [],
   "source": [
    "train_path = './storage/modified_mnist_dataset/train.csv'  \n",
    "test_path = './storage/modified_mnist_dataset/test.csv' \n",
    "submission_path = './storage/modified_mnist_dataset/submission.csv' "
   ]
  },
  {
   "cell_type": "code",
   "execution_count": 3,
   "metadata": {},
   "outputs": [],
   "source": [
    "train = pd.read_csv(train_path)\n",
    "test = pd.read_csv(test_path) \n",
    "submission = pd.read_csv(submission_path) "
   ]
  },
  {
   "cell_type": "markdown",
   "metadata": {},
   "source": [
    "# Preprocessing Data"
   ]
  },
  {
   "cell_type": "code",
   "execution_count": 4,
   "metadata": {},
   "outputs": [],
   "source": [
    "# convert types of digit and letter columns to categorical \n",
    "train.iloc[:,1] = pd.Categorical(train.iloc[:,1])\n",
    "train.iloc[:,2] = pd.Categorical(train.iloc[:,2]) \n",
    "test.iloc[:,1] = pd.Categorical(test.iloc[:,1])"
   ]
  },
  {
   "cell_type": "code",
   "execution_count": 5,
   "metadata": {},
   "outputs": [],
   "source": [
    "# define and re-format train and test data \n",
    "x_train = train.iloc[:,3:].values.reshape(-1,28,28,1).astype(np.float32) \n",
    "y_train = train.iloc[:,1].values\n",
    "y_train = np.asarray(y_train)\n",
    "y_train = to_categorical(y_train, num_classes = 10) \n",
    "train_letters = train.iloc[:,2].values\n",
    "\n",
    "x_test = test.iloc[:,2:].values.reshape(-1,28,28,1).astype(np.float32) \n",
    "test_letters = test.iloc[:,1].values"
   ]
  },
  {
   "cell_type": "code",
   "execution_count": 6,
   "metadata": {},
   "outputs": [],
   "source": [
    "x_train /= 255.0 \n",
    "x_test /= 255.0 "
   ]
  },
  {
   "cell_type": "code",
   "execution_count": 7,
   "metadata": {},
   "outputs": [
    {
     "data": {
      "text/plain": [
       "((2048, 28, 28, 1), (2048, 10), (20480, 28, 28, 1), (2048, 26), (20480, 26))"
      ]
     },
     "execution_count": 7,
     "metadata": {},
     "output_type": "execute_result"
    }
   ],
   "source": [
    "train_letters_numeric = [] \n",
    "test_letters_numeric = [] \n",
    "for letter in train_letters: \n",
    "    train_letters_numeric.append(ord(letter) - ord(\"A\"))\n",
    "for letter in test_letters: \n",
    "    test_letters_numeric.append(ord(letter) - ord(\"A\")) \n",
    "    \n",
    "train_letters_numeric = np.asarray(train_letters_numeric) \n",
    "test_letters_numeric = np.asarray(test_letters_numeric) \n",
    "\n",
    "train_letters_numeric = to_categorical(train_letters_numeric, num_classes = 26) \n",
    "test_letters_numeric = to_categorical(test_letters_numeric, num_classes = 26)\n",
    "\n",
    "x_train.shape, y_train.shape, x_test.shape, train_letters_numeric.shape, test_letters_numeric.shape\n"
   ]
  },
  {
   "cell_type": "markdown",
   "metadata": {},
   "source": [
    "# Train Autoencoder Model\n",
    "\n",
    "To augment the data, I will train an autoencoder model using the train set, then will predict on the train set, and will use these predicted images from the autoencoder for additional data. "
   ]
  },
  {
   "cell_type": "code",
   "execution_count": 8,
   "metadata": {},
   "outputs": [
    {
     "name": "stdout",
     "output_type": "stream",
     "text": [
      "Model: \"model\"\n",
      "_________________________________________________________________\n",
      "Layer (type)                 Output Shape              Param #   \n",
      "=================================================================\n",
      "input_1 (InputLayer)         [(None, 28, 28, 1)]       0         \n",
      "_________________________________________________________________\n",
      "conv2d (Conv2D)              (None, 28, 28, 16)        160       \n",
      "_________________________________________________________________\n",
      "max_pooling2d (MaxPooling2D) (None, 14, 14, 16)        0         \n",
      "_________________________________________________________________\n",
      "conv2d_1 (Conv2D)            (None, 14, 14, 8)         1160      \n",
      "_________________________________________________________________\n",
      "max_pooling2d_1 (MaxPooling2 (None, 7, 7, 8)           0         \n",
      "_________________________________________________________________\n",
      "conv2d_2 (Conv2D)            (None, 4, 4, 8)           584       \n",
      "_________________________________________________________________\n",
      "conv2d_3 (Conv2D)            (None, 4, 4, 8)           584       \n",
      "_________________________________________________________________\n",
      "up_sampling2d (UpSampling2D) (None, 8, 8, 8)           0         \n",
      "_________________________________________________________________\n",
      "conv2d_4 (Conv2D)            (None, 8, 8, 8)           584       \n",
      "_________________________________________________________________\n",
      "up_sampling2d_1 (UpSampling2 (None, 16, 16, 8)         0         \n",
      "_________________________________________________________________\n",
      "conv2d_5 (Conv2D)            (None, 14, 14, 16)        1168      \n",
      "_________________________________________________________________\n",
      "up_sampling2d_2 (UpSampling2 (None, 28, 28, 16)        0         \n",
      "_________________________________________________________________\n",
      "conv2d_6 (Conv2D)            (None, 28, 28, 1)         145       \n",
      "=================================================================\n",
      "Total params: 4,385\n",
      "Trainable params: 4,385\n",
      "Non-trainable params: 0\n",
      "_________________________________________________________________\n"
     ]
    }
   ],
   "source": [
    "def build_ae():  \n",
    "    inputs = Input((28,28,1)) \n",
    "    # encoding step \n",
    "    conv = Conv2D(16, 3, padding = 'same', activation = 'relu')(inputs) \n",
    "    conv = MaxPooling2D((2,2), padding = 'same')(conv) \n",
    "    conv = Conv2D(8, 3, padding = 'same', activation = 'relu')(conv) \n",
    "    conv = MaxPooling2D((2,2), padding = 'same')(conv) \n",
    "    conv = Conv2D(8, 3, strides = 2, padding = 'same', activation = 'relu')(conv) \n",
    "    \n",
    "    # decoding step \n",
    "    conv = Conv2D(8, 3, padding = 'same', activation = 'relu')(conv)\n",
    "    conv = UpSampling2D()(conv)\n",
    "    conv = Conv2D(8, 3, padding = 'same', activation = 'relu')(conv) \n",
    "    conv = UpSampling2D()(conv) \n",
    "    conv = Conv2D(16, 3, activation = 'relu')(conv)\n",
    "    conv = UpSampling2D()(conv)\n",
    "    outputs = Conv2D(1, 3, padding = 'same', activation = 'sigmoid')(conv) \n",
    "    \n",
    "    model = Model(inputs = inputs, outputs = outputs) \n",
    "    model.compile(optimizer = 'adam', loss = 'binary_crossentropy')\n",
    "    return model \n",
    "\n",
    "autoencoder = build_ae()\n",
    "\n",
    "autoencoder.summary()"
   ]
  },
  {
   "cell_type": "code",
   "execution_count": 9,
   "metadata": {},
   "outputs": [
    {
     "name": "stdout",
     "output_type": "stream",
     "text": [
      "Train on 2048 samples\n",
      "Epoch 1/100\n",
      "2048/2048 [==============================] - 2s 957us/sample - loss: 0.6305\n",
      "Epoch 2/100\n",
      "2048/2048 [==============================] - 0s 42us/sample - loss: 0.4936\n",
      "Epoch 3/100\n",
      "2048/2048 [==============================] - 0s 33us/sample - loss: 0.4265\n",
      "Epoch 4/100\n",
      "2048/2048 [==============================] - 0s 33us/sample - loss: 0.3576\n",
      "Epoch 5/100\n",
      "2048/2048 [==============================] - 0s 33us/sample - loss: 0.3158\n",
      "Epoch 6/100\n",
      "2048/2048 [==============================] - 0s 33us/sample - loss: 0.2993\n",
      "Epoch 7/100\n",
      "2048/2048 [==============================] - 0s 33us/sample - loss: 0.2906\n",
      "Epoch 8/100\n",
      "2048/2048 [==============================] - 0s 33us/sample - loss: 0.2856\n",
      "Epoch 9/100\n",
      "2048/2048 [==============================] - 0s 33us/sample - loss: 0.2817\n",
      "Epoch 10/100\n",
      "2048/2048 [==============================] - 0s 36us/sample - loss: 0.2783\n",
      "Epoch 11/100\n",
      "2048/2048 [==============================] - 0s 35us/sample - loss: 0.2752\n",
      "Epoch 12/100\n",
      "2048/2048 [==============================] - 0s 34us/sample - loss: 0.2727\n",
      "Epoch 13/100\n",
      "2048/2048 [==============================] - 0s 34us/sample - loss: 0.2700\n",
      "Epoch 14/100\n",
      "2048/2048 [==============================] - 0s 33us/sample - loss: 0.2674\n",
      "Epoch 15/100\n",
      "2048/2048 [==============================] - 0s 34us/sample - loss: 0.2648\n",
      "Epoch 16/100\n",
      "2048/2048 [==============================] - 0s 35us/sample - loss: 0.2622\n",
      "Epoch 17/100\n",
      "2048/2048 [==============================] - 0s 35us/sample - loss: 0.2596\n",
      "Epoch 18/100\n",
      "2048/2048 [==============================] - 0s 34us/sample - loss: 0.2572\n",
      "Epoch 19/100\n",
      "2048/2048 [==============================] - 0s 33us/sample - loss: 0.2551\n",
      "Epoch 20/100\n",
      "2048/2048 [==============================] - 0s 33us/sample - loss: 0.2532\n",
      "Epoch 21/100\n",
      "2048/2048 [==============================] - 0s 33us/sample - loss: 0.2514\n",
      "Epoch 22/100\n",
      "2048/2048 [==============================] - 0s 34us/sample - loss: 0.2499\n",
      "Epoch 23/100\n",
      "2048/2048 [==============================] - 0s 33us/sample - loss: 0.2482\n",
      "Epoch 24/100\n",
      "2048/2048 [==============================] - 0s 34us/sample - loss: 0.2469\n",
      "Epoch 25/100\n",
      "2048/2048 [==============================] - 0s 33us/sample - loss: 0.2456\n",
      "Epoch 26/100\n",
      "2048/2048 [==============================] - 0s 33us/sample - loss: 0.2444\n",
      "Epoch 27/100\n",
      "2048/2048 [==============================] - 0s 33us/sample - loss: 0.2434\n",
      "Epoch 28/100\n",
      "2048/2048 [==============================] - 0s 35us/sample - loss: 0.2422\n",
      "Epoch 29/100\n",
      "2048/2048 [==============================] - 0s 33us/sample - loss: 0.2412\n",
      "Epoch 30/100\n",
      "2048/2048 [==============================] - 0s 33us/sample - loss: 0.2402\n",
      "Epoch 31/100\n",
      "2048/2048 [==============================] - 0s 33us/sample - loss: 0.2391\n",
      "Epoch 32/100\n",
      "2048/2048 [==============================] - 0s 33us/sample - loss: 0.2381\n",
      "Epoch 33/100\n",
      "2048/2048 [==============================] - 0s 34us/sample - loss: 0.2371\n",
      "Epoch 34/100\n",
      "2048/2048 [==============================] - 0s 33us/sample - loss: 0.2362\n",
      "Epoch 35/100\n",
      "2048/2048 [==============================] - 0s 34us/sample - loss: 0.2354\n",
      "Epoch 36/100\n",
      "2048/2048 [==============================] - 0s 34us/sample - loss: 0.2346\n",
      "Epoch 37/100\n",
      "2048/2048 [==============================] - 0s 33us/sample - loss: 0.2338\n",
      "Epoch 38/100\n",
      "2048/2048 [==============================] - 0s 34us/sample - loss: 0.2331\n",
      "Epoch 39/100\n",
      "2048/2048 [==============================] - 0s 33us/sample - loss: 0.2324\n",
      "Epoch 40/100\n",
      "2048/2048 [==============================] - 0s 38us/sample - loss: 0.2318\n",
      "Epoch 41/100\n",
      "2048/2048 [==============================] - 0s 43us/sample - loss: 0.2313\n",
      "Epoch 42/100\n",
      "2048/2048 [==============================] - 0s 34us/sample - loss: 0.2309\n",
      "Epoch 43/100\n",
      "2048/2048 [==============================] - 0s 35us/sample - loss: 0.2304\n",
      "Epoch 44/100\n",
      "2048/2048 [==============================] - 0s 40us/sample - loss: 0.2299\n",
      "Epoch 45/100\n",
      "2048/2048 [==============================] - 0s 39us/sample - loss: 0.2294\n",
      "Epoch 46/100\n",
      "2048/2048 [==============================] - 0s 37us/sample - loss: 0.2291\n",
      "Epoch 47/100\n",
      "2048/2048 [==============================] - 0s 33us/sample - loss: 0.2287\n",
      "Epoch 48/100\n",
      "2048/2048 [==============================] - 0s 34us/sample - loss: 0.2282\n",
      "Epoch 49/100\n",
      "2048/2048 [==============================] - 0s 33us/sample - loss: 0.2279\n",
      "Epoch 50/100\n",
      "2048/2048 [==============================] - 0s 34us/sample - loss: 0.2276\n",
      "Epoch 51/100\n",
      "2048/2048 [==============================] - 0s 34us/sample - loss: 0.2273\n",
      "Epoch 52/100\n",
      "2048/2048 [==============================] - 0s 34us/sample - loss: 0.2269\n",
      "Epoch 53/100\n",
      "2048/2048 [==============================] - 0s 34us/sample - loss: 0.2266\n",
      "Epoch 54/100\n",
      "2048/2048 [==============================] - 0s 32us/sample - loss: 0.2263\n",
      "Epoch 55/100\n",
      "2048/2048 [==============================] - 0s 33us/sample - loss: 0.2262\n",
      "Epoch 56/100\n",
      "2048/2048 [==============================] - 0s 34us/sample - loss: 0.2260\n",
      "Epoch 57/100\n",
      "2048/2048 [==============================] - 0s 32us/sample - loss: 0.2259\n",
      "Epoch 58/100\n",
      "2048/2048 [==============================] - 0s 33us/sample - loss: 0.2253\n",
      "Epoch 59/100\n",
      "2048/2048 [==============================] - 0s 33us/sample - loss: 0.2250\n",
      "Epoch 60/100\n",
      "2048/2048 [==============================] - 0s 34us/sample - loss: 0.2249\n",
      "Epoch 61/100\n",
      "2048/2048 [==============================] - 0s 33us/sample - loss: 0.2248\n",
      "Epoch 62/100\n",
      "2048/2048 [==============================] - 0s 34us/sample - loss: 0.2244\n",
      "Epoch 63/100\n",
      "2048/2048 [==============================] - 0s 34us/sample - loss: 0.2241\n",
      "Epoch 64/100\n",
      "2048/2048 [==============================] - 0s 35us/sample - loss: 0.2239\n",
      "Epoch 65/100\n",
      "2048/2048 [==============================] - 0s 35us/sample - loss: 0.2238\n",
      "Epoch 66/100\n",
      "2048/2048 [==============================] - 0s 32us/sample - loss: 0.2236\n",
      "Epoch 67/100\n",
      "2048/2048 [==============================] - 0s 33us/sample - loss: 0.2233\n",
      "Epoch 68/100\n",
      "2048/2048 [==============================] - 0s 34us/sample - loss: 0.2231\n",
      "Epoch 69/100\n",
      "2048/2048 [==============================] - 0s 33us/sample - loss: 0.2230\n",
      "Epoch 70/100\n",
      "2048/2048 [==============================] - 0s 33us/sample - loss: 0.2230\n",
      "Epoch 71/100\n",
      "2048/2048 [==============================] - 0s 34us/sample - loss: 0.2228\n",
      "Epoch 72/100\n",
      "2048/2048 [==============================] - 0s 34us/sample - loss: 0.2226\n",
      "Epoch 73/100\n",
      "2048/2048 [==============================] - 0s 34us/sample - loss: 0.2224\n",
      "Epoch 74/100\n",
      "2048/2048 [==============================] - 0s 33us/sample - loss: 0.2222\n",
      "Epoch 75/100\n",
      "2048/2048 [==============================] - 0s 34us/sample - loss: 0.2223\n",
      "Epoch 76/100\n",
      "2048/2048 [==============================] - 0s 34us/sample - loss: 0.2219\n",
      "Epoch 77/100\n",
      "2048/2048 [==============================] - 0s 33us/sample - loss: 0.2218\n",
      "Epoch 78/100\n",
      "2048/2048 [==============================] - 0s 33us/sample - loss: 0.2217\n",
      "Epoch 79/100\n",
      "2048/2048 [==============================] - 0s 33us/sample - loss: 0.2217\n",
      "Epoch 80/100\n",
      "2048/2048 [==============================] - 0s 33us/sample - loss: 0.2217\n",
      "Epoch 81/100\n",
      "2048/2048 [==============================] - 0s 33us/sample - loss: 0.2215\n",
      "Epoch 82/100\n",
      "2048/2048 [==============================] - 0s 33us/sample - loss: 0.2213\n",
      "Epoch 83/100\n",
      "2048/2048 [==============================] - 0s 34us/sample - loss: 0.2211\n",
      "Epoch 84/100\n",
      "2048/2048 [==============================] - 0s 36us/sample - loss: 0.2212\n",
      "Epoch 85/100\n",
      "2048/2048 [==============================] - 0s 33us/sample - loss: 0.2209\n",
      "Epoch 86/100\n",
      "2048/2048 [==============================] - 0s 34us/sample - loss: 0.2208\n",
      "Epoch 87/100\n",
      "2048/2048 [==============================] - 0s 36us/sample - loss: 0.2208\n",
      "Epoch 88/100\n",
      "2048/2048 [==============================] - 0s 35us/sample - loss: 0.2206\n",
      "Epoch 89/100\n",
      "2048/2048 [==============================] - 0s 36us/sample - loss: 0.2205\n",
      "Epoch 90/100\n",
      "2048/2048 [==============================] - 0s 34us/sample - loss: 0.2204\n",
      "Epoch 91/100\n",
      "2048/2048 [==============================] - 0s 33us/sample - loss: 0.2204\n",
      "Epoch 92/100\n",
      "2048/2048 [==============================] - 0s 32us/sample - loss: 0.2204\n",
      "Epoch 93/100\n",
      "2048/2048 [==============================] - 0s 34us/sample - loss: 0.2202\n",
      "Epoch 94/100\n",
      "2048/2048 [==============================] - 0s 34us/sample - loss: 0.2200\n",
      "Epoch 95/100\n",
      "2048/2048 [==============================] - 0s 32us/sample - loss: 0.2199\n",
      "Epoch 96/100\n",
      "2048/2048 [==============================] - 0s 32us/sample - loss: 0.2199\n",
      "Epoch 97/100\n",
      "2048/2048 [==============================] - 0s 32us/sample - loss: 0.2198\n",
      "Epoch 98/100\n",
      "2048/2048 [==============================] - 0s 33us/sample - loss: 0.2197\n",
      "Epoch 99/100\n",
      "2048/2048 [==============================] - 0s 34us/sample - loss: 0.2196\n",
      "Epoch 100/100\n",
      "2048/2048 [==============================] - ETA: 0s - loss: 0.219 - 0s 32us/sample - loss: 0.2195\n"
     ]
    },
    {
     "data": {
      "text/plain": [
       "<tensorflow.python.keras.callbacks.History at 0x7f95906c5dd8>"
      ]
     },
     "execution_count": 9,
     "metadata": {},
     "output_type": "execute_result"
    }
   ],
   "source": [
    "autoencoder.fit(x_train, x_train, epochs = 100, batch_size = 128)"
   ]
  },
  {
   "cell_type": "code",
   "execution_count": null,
   "metadata": {},
   "outputs": [],
   "source": [
    "ae_imgs = autoencoder.predict(x_train)"
   ]
  },
  {
   "cell_type": "markdown",
   "metadata": {},
   "source": [
    "# Autoencoder generated image"
   ]
  },
  {
   "cell_type": "code",
   "execution_count": 14,
   "metadata": {},
   "outputs": [
    {
     "data": {
      "text/plain": [
       "<matplotlib.image.AxesImage at 0x7f601fad69e8>"
      ]
     },
     "execution_count": 14,
     "metadata": {},
     "output_type": "execute_result"
    },
    {
     "data": {
      "image/png": "[encoded data removed]",
      "text/plain": [
       "<Figure size 432x288 with 1 Axes>"
      ]
     },
     "metadata": {
      "needs_background": "light"
     },
     "output_type": "display_data"
    }
   ],
   "source": [
    "plt.imshow(ae_imgs[10].reshape(28,28))"
   ]
  },
  {
   "cell_type": "markdown",
   "metadata": {},
   "source": [
    "# Original image"
   ]
  },
  {
   "cell_type": "code",
   "execution_count": 15,
   "metadata": {},
   "outputs": [
    {
     "data": {
      "text/plain": [
       "<matplotlib.image.AxesImage at 0x7f60225a8ac8>"
      ]
     },
     "execution_count": 15,
     "metadata": {},
     "output_type": "execute_result"
    },
    {
     "data": {
      "image/png": "[encoded data removed]",
      "text/plain": [
       "<Figure size 432x288 with 1 Axes>"
      ]
     },
     "metadata": {
      "needs_background": "light"
     },
     "output_type": "display_data"
    }
   ],
   "source": [
    "plt.imshow(x_train[10].reshape(28,28))"
   ]
  },
  {
   "cell_type": "markdown",
   "metadata": {},
   "source": [
    "# Save autoencode "
   ]
  }
 ],
 "metadata": {
  "kernelspec": {
   "display_name": "Python 3",
   "language": "python",
   "name": "python3"
  },
  "language_info": {
   "codemirror_mode": {
    "name": "ipython",
    "version": 3
   },
   "file_extension": ".py",
   "mimetype": "text/x-python",
   "name": "python",
   "nbconvert_exporter": "python",
   "pygments_lexer": "ipython3",
   "version": "3.6.8"
  }
 },
 "nbformat": 4,
 "nbformat_minor": 4
}
